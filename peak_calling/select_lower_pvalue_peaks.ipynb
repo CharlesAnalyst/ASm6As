{
 "cells": [
  {
   "cell_type": "code",
   "execution_count": null,
   "id": "neither-display",
   "metadata": {},
   "outputs": [],
   "source": [
    "### peak pool"
   ]
  },
  {
   "cell_type": "code",
   "execution_count": 3,
   "id": "committed-basics",
   "metadata": {},
   "outputs": [
    {
     "data": {
      "text/plain": [
       "0"
      ]
     },
     "execution_count": 3,
     "metadata": {},
     "output_type": "execute_result"
    }
   ],
   "source": [
    "os.chdir(\"/Charles/project/ASm6A/METTL3_chip/human/peak/\")\n",
    "wt = \"shNC_peaks.narrowPeak\"\n",
    "kd = \"kd_peaks.narrowPeak\"\n",
    "result_dir = \"/Charles/project/ASm6A/METTL3_chip/human/peak/peak_pool/\"\n",
    "##############\n",
    "\n",
    "def select_the_lowerP(df, result_file):\n",
    "    res_arrsy = []\n",
    "    for a, values in df.iterrows():\n",
    "        if values['pValue_wt'] > values['pValue_kd']:\n",
    "            res_arrsy.append([values[\"chrom_wt\"], values[\"chromStart_wt\"], values[\"chromEnd_wt\"]])\n",
    "        else:\n",
    "            res_arrsy.append([values[\"chrom_kd\"], values[\"chromStart_kd\"], values[\"chromEnd_kd\"]])\n",
    "    df_res = pd.DataFrame(res_arrsy)\n",
    "    df_res.to_csv(result_file, sep=\"\\t\", header=False, index=False)\n",
    "\n",
    "res = os.path.join(result_dir, \"overlap.txt\")\n",
    "os.system(\"bedtools intersect -a %s -b %s -wa -wb > %s\" % (wt, kd, res))\n",
    "df = pd.read_table(res, sep=\"\\t\", header=None)\n",
    "df.columns = [\n",
    "    \"chrom_wt\", \"chromStart_wt\", \"chromEnd_wt\", \"name_wt\", \"score_wt\",\n",
    "    \"strand_wt\", \"signalValue_wt\", \"pValue_wt\", \"qValue_wt\", \"peak_wt\",\n",
    "    \"chrom_kd\", \"chromStart_kd\", \"chromEnd_kd\", \"name_kd\", \"score_kd\",\n",
    "    \"strand_kd\", \"signalValue_kd\", \"pValue_kd\", \"qValue_kd\", \"peak_kd\"\n",
    "]\n",
    "res = os.path.join(result_dir, \"overlap_withLowerP.txt\")\n",
    "select_the_lowerP(df, res)\n",
    "###\n",
    "res = os.path.join(result_dir, \"only_wt.txt\")\n",
    "os.system(\"bedtools intersect -a %s -b %s -wa -v > %s\" % (wt, kd, res))\n",
    "res = os.path.join(result_dir, \"only_kd.txt\")\n",
    "os.system(\"bedtools intersect -a %s -b %s -wa -v > %s\" % (kd, wt, res))"
   ]
  },
  {
   "cell_type": "code",
   "execution_count": 7,
   "id": "shared-subscription",
   "metadata": {},
   "outputs": [],
   "source": [
    "os.chdir(result_dir)\n",
    "\n",
    "! cat overlap_withLowerP.txt only_wt.txt only_kd.txt | awk '{OFS=\"\\t\"}{print $1,$2,$3}' -  | sort -k1,1 -k2,2n - | bedtools merge -i - > final_peaks.bed"
   ]
  }
 ],
 "metadata": {
  "kernelspec": {
   "display_name": "Python 3",
   "language": "python",
   "name": "python3"
  },
  "language_info": {
   "codemirror_mode": {
    "name": "ipython",
    "version": 3
   },
   "file_extension": ".py",
   "mimetype": "text/x-python",
   "name": "python",
   "nbconvert_exporter": "python",
   "pygments_lexer": "ipython3",
   "version": "3.7.2"
  }
 },
 "nbformat": 4,
 "nbformat_minor": 5
}
