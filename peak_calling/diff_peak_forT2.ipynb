{
 "cells": [
  {
   "cell_type": "code",
   "execution_count": null,
   "id": "inclusive-genius",
   "metadata": {},
   "outputs": [],
   "source": [
    "## \n",
    "! cat ConsensusPeaks.bed ../T2/ConsensusPeaks.bed | sort -k1,1 -k2,2n | bedtools merge -i - > /Charles/mjy/210505_A00869_0471_BH3NHMDSX2/mapping/human/bam/peak_quan/totalReads/forT2/combined_peaks.bed\n",
    "! bedtools multicov -bams NC.input.bam NC.m6A.bam T2.input.bam T2.m6A.bam -bed peak_quan/totalReads/forT2/combined_peaks.bed > peak_quan/totalReads/forT2/NC_vs_T2.count"
   ]
  },
  {
   "cell_type": "code",
   "execution_count": 30,
   "id": "prospective-forest",
   "metadata": {},
   "outputs": [
    {
     "name": "stdout",
     "output_type": "stream",
     "text": [
      "{'NC_input': 37861441, 'NC_m6A': 69716419, 'T1_input': 21744437, 'T1_m6A': 50220310, 'T2_input': 13177239, 'T2_m6A': 42963644, 'T3_input': 22897343, 'T3_m6A': 37515691}\n",
      "                 peak  NC_m6ALevel  T2_m6ALevel\n",
      "0    chr1:14411-14829     3.264548     3.768137\n",
      "1  chr1:788736-790120     6.750691     7.135440\n",
      "2  chr1:791585-792881     5.708069     6.771659\n",
      "3  chr1:852791-853161     4.438254     6.139791\n",
      "4  chr1:879077-879758     4.733415     4.936039\n"
     ]
    }
   ],
   "source": [
    "os.chdir(\"/Charles/mjy/210505_A00869_0471_BH3NHMDSX2/mapping/human/bam/peak_quan/totalReads/forT2/\")\n",
    "df = pd.read_table(\"NC_vs_T2.count\")\n",
    "\n",
    "# ### bam stat\n",
    "count_file = \"/Charles/mjy/210505_A00869_0471_BH3NHMDSX2/mapping/human/bam/bam.count\"\n",
    "df_c = pd.read_table(count_file, header=None)\n",
    "count_dict = dict(zip(df_c.iloc[:,0], df_c.iloc[:,1]))\n",
    "print(count_dict)\n",
    "###\n",
    "sample_cols = df.columns[3:].tolist()\n",
    "df['peak_len'] = df['end'] - df['start']\n",
    "for sample in sample_cols:\n",
    "    df['%s_rpkm'%sample] = (df[sample] * 1000000000) / (df['peak_len'] * count_dict[sample])\n",
    "df['peak'] = df['#chro'] + \":\" + df['start'].astype(str) + \"-\" + df['end'].astype(str)\n",
    "sample_list = list(set([x.split(\"_\")[0] for x in sample_cols]))\n",
    "for case in sample_list:\n",
    "    df['%s_m6ALevel'%case] = (df['%s_m6A_rpkm'%case]+1) / (df['%s_input_rpkm'%case]+1)\n",
    "### txt format\n",
    "df_final = df[['peak'] + [\"%s_m6ALevel\" % x for x in sample_list]]\n",
    "print(df_final.head())\n",
    "df_final.to_csv(\"FPKM_matrix.txt\", sep=\"\\t\", index=False)\n",
    "### bed format\n",
    "df_final = df[['#chro', 'start', 'end'] + [\"%s_m6ALevel\" % x for x in sample_list]]\n",
    "df_final.to_csv(\"FPKM_matrix.bed\", sep=\"\\t\", index=False)"
   ]
  },
  {
   "cell_type": "code",
   "execution_count": 33,
   "id": "greatest-principal",
   "metadata": {},
   "outputs": [
    {
     "name": "stdout",
     "output_type": "stream",
     "text": [
      "T2_m6ALevel\n"
     ]
    }
   ],
   "source": [
    "os.chdir(\"/Charles/mjy/210505_A00869_0471_BH3NHMDSX2/mapping/human/bam/peak_quan/totalReads/forT2/\")\n",
    "os.system(\"mkdir -p targets\")\n",
    "os.system(\"mkdir -p non-targets\")\n",
    "###### pick out m6A peak\n",
    "in_file = \"FPKM_matrix.bed\"\n",
    "m6a_peak = \"/Charles/mjy/210505_A00869_0471_BH3NHMDSX2/peak_calling/merged_peak_MSPC/NC/ConsensusPeaks.bed\"\n",
    "###\n",
    "m6a_bed = \"overlapM6A.bed\"\n",
    "os.system(\"bedtools intersect -a %s -b %s -wa | sort -u > %s\" % (in_file, m6a_peak, m6a_bed))\n",
    "### 手工加header [#chro   start   end     NC_m6ALevel     T1_m6ALevel     T2_m6ALevel     T3_m6ALevel]\n",
    "### split into targets and non-targets\n",
    "### process biological repeats\n",
    "df = pd.read_table(m6a_bed, header=None) # , header=None\n",
    "df.columns = ['#chro','start', 'end', 'NC_m6ALevel','T2_m6ALevel']\n",
    "kd_samples = df.columns[4:].tolist()\n",
    "#####\n",
    "def split_group(sample_name):\n",
    "#     fus = \"/home/galaxy/data/RBP/POSTAR/POSTAR_bed/FUS_brain_hg19.bed\"\n",
    "#     fus = \"/home/galaxy/project/alleleSpecific_analysis/data/RBP/ENCODE/eCLIP/FUS/combine//union_hg19.bed\"\n",
    "#     fus = \"/Charles/project/ASm6A/data/RBP/union/union.bed\"\n",
    "#     fus = \"/Charles/project/ASm6A/data/RBP/union/ContainingFUS_genes.bed\"\n",
    "    fus = \"/home/galaxy/data/RBP/POSTAR/POSTAR_bed/FUS_HEK293T_hg19.bed\"\n",
    "#     fus = \"/home/galaxy/data/RBP/POSTAR/POSTAR_bed/FUS_brain_hg19.bed\"\n",
    "    #### combine all FUS sets + Gene + Promoter\n",
    "    fus_target_genes  = \"/Charles/project/ASm6A/data/RBP/union/ContainingFUS_genes_promoter.bed\"\n",
    "#     fus_target_genes = \"/home/galaxy/data/RBP/POSTAR/POSTAR_bed/tmp/FUS_brain_GenePromoter_hg19.bed\"\n",
    "#     fus_target_genes = \"/home/galaxy/data/RBP/POSTAR/POSTAR_bed/tmp/FUS_brain_Gene\"\n",
    "    ####\n",
    "    df_sub = df[['#chro', 'start', 'end', \"NC_m6ALevel\", sample_name]]\n",
    "    bed = \"%s.bed\"%sample_name\n",
    "    df_sub.to_csv(bed, sep=\"\\t\", index=False)\n",
    "    res = \"targets/%s\" % os.path.basename(bed)\n",
    "    os.system(\"bedtools intersect -a %s -b %s -wa | sort -u > %s\" % (bed, fus, res))\n",
    "    res = \"non-targets/%s\" % os.path.basename(bed)\n",
    "    os.system(\"bedtools intersect -a %s -b %s -v -wa | sort -u > %s\" % (bed, fus_target_genes, res))\n",
    "    os.remove(bed)\n",
    "    \n",
    "for kd in kd_samples:\n",
    "    print(kd)\n",
    "    split_group(kd)"
   ]
  },
  {
   "cell_type": "code",
   "execution_count": 35,
   "id": "prime-workplace",
   "metadata": {
    "scrolled": true
   },
   "outputs": [
    {
     "name": "stdout",
     "output_type": "stream",
     "text": [
      "2177 2177\n",
      "773 773\n"
     ]
    },
    {
     "name": "stderr",
     "output_type": "stream",
     "text": [
      "/home/galaxy/anaconda3/lib/python3.7/site-packages/numpy/core/_asarray.py:83: VisibleDeprecationWarning: Creating an ndarray from ragged nested sequences (which is a list-or-tuple of lists-or-tuples-or ndarrays with different lengths or shapes) is deprecated. If you meant to do this, you must specify 'dtype=object' when creating the ndarray\n",
      "  return array(a, dtype, copy=False, order=order)\n"
     ]
    },
    {
     "data": {
      "image/png": "[encoded data removed]",
      "text/plain": [
       "<Figure size 432x288 with 1 Axes>"
      ]
     },
     "metadata": {
      "needs_background": "light"
     },
     "output_type": "display_data"
    }
   ],
   "source": [
    "# boxplot \n",
    "#### another form of plot\n",
    "import random\n",
    "from scipy import stats\n",
    "import matplotlib.pyplot as plt\n",
    "\n",
    "target_dir = \"/Charles/mjy/210505_A00869_0471_BH3NHMDSX2/mapping/human/bam/peak_quan/totalReads/forT2/targets/\"\n",
    "non_dir = \"/Charles/mjy/210505_A00869_0471_BH3NHMDSX2/mapping/human/bam/peak_quan/totalReads/forT2/non-targets/\"\n",
    "\n",
    "def get_fc_list(in_file):\n",
    "    df = pd.read_table(in_file, header=None)\n",
    "    df = df.dropna()\n",
    "    wt_list = df.iloc[:,3].tolist()\n",
    "    wt_list = [x for x in wt_list if x != \"nan\"]\n",
    "    kd_list = df.iloc[:,4].tolist()\n",
    "    kd_list = [x for x in kd_list if x != \"nan\"]\n",
    "#     fc_list = [np.log2(x+1) for x in fc_list]\n",
    "    return wt_list, kd_list\n",
    "    \n",
    "# for target_file in target_list:\n",
    "#     non_file = os.path.join(non_dir, os.path.basename(target_file))\n",
    "#     #\n",
    "#     n_wt_list, n_kd_list = get_fc_list(non_file)\n",
    "#     stat, pvalue = stats.mannwhitneyu(n_wt_list, n_kd_list)\n",
    "#     a1,b1,c1,d1 = round(np.mean(n_wt_list),2), round(np.mean(n_kd_list),2), round(stat,2), round(pvalue,4)\n",
    "#     #\n",
    "#     t_wt_list, t_kd_list = get_fc_list(target_file)\n",
    "#     stat, pvalue = stats.mannwhitneyu(t_wt_list, t_kd_list)\n",
    "#     a2,b2,c2,d2 = round(np.mean(t_wt_list),2), round(np.mean(t_kd_list),2), round(stat,2), round(pvalue,4)\n",
    "#     print(os.path.basename(target_file), a1,b1,d1, a2,b2,d2)\n",
    "sample = \"T2_m6ALevel.bed\"\n",
    "target_file = os.path.join(target_dir, sample)\n",
    "non_file = os.path.join(non_dir, sample)\n",
    "##\n",
    "t_wt_list, t_kd_list = get_fc_list(target_file)\n",
    "t_median = \"wt:%s, kd:%s\" % (str(round(np.median(t_wt_list),2)), str(round(np.median(t_kd_list),2)))\n",
    "t_stat, t_pvalue = stats.ttest_rel(t_wt_list, t_kd_list)\n",
    "print(len(t_wt_list), len(t_kd_list))\n",
    "##\n",
    "n_wt_list, n_kd_list = get_fc_list(non_file)\n",
    "# random_index_list = random.sample(list(range(len(n_wt_list))), len(t_wt_list))\n",
    "# n_wt_list, n_kd_list = [n_wt_list[i] for i in random_index_list], [n_kd_list[i] for i in random_index_list]\n",
    "n_median = \"wt:%s, kd:%s\" % (str(round(np.median(n_wt_list),2)), str(round(np.median(n_kd_list),2)))\n",
    "n_stat, n_pvalue = stats.ttest_rel(n_wt_list, n_kd_list)\n",
    "print(len(n_wt_list), len(n_kd_list))\n",
    "####\n",
    "x = [n_wt_list,n_kd_list,t_wt_list,t_kd_list]\n",
    "plt.boxplot(x, labels=[\"Non-targets \\n(WT)\",\"Non-targets \\n(shFUS)\",\"FUS-targets \\n(WT)\",\"FUS-targets \\n(shFUS)\"])\n",
    "plt.ylabel('m6A level', size = 14)\n",
    "plt.xticks(rotation=0)\n",
    "plt.text(1.5, 16, 'pvalue=%e'%n_pvalue, horizontalalignment='center')\n",
    "plt.text(1.5, 20, n_median, horizontalalignment='center')\n",
    "plt.text(3.5, 16, 'pvalue=%e'%t_pvalue, horizontalalignment='center')\n",
    "plt.text(3.5, 20, t_median, horizontalalignment='center')\n",
    "plt.text(2.5, 24, \"NC_vs_%s\"%sample.split(\"_\")[0], horizontalalignment='center')\n",
    "plt.show()"
   ]
  },
  {
   "cell_type": "code",
   "execution_count": 38,
   "id": "alone-briefing",
   "metadata": {
    "scrolled": true
   },
   "outputs": [
    {
     "name": "stdout",
     "output_type": "stream",
     "text": [
      "T2_m6ALevel.bed -0.04264049869194737 -0.09988493992029993 2177 773 6.205843727791205e-09\n"
     ]
    },
    {
     "data": {
      "image/png": "[encoded data removed]",
      "text/plain": [
       "<Figure size 432x288 with 1 Axes>"
      ]
     },
     "metadata": {
      "needs_background": "light"
     },
     "output_type": "display_data"
    }
   ],
   "source": [
    "#### compare (kd-test)\n",
    "import random\n",
    "from scipy import stats\n",
    "import numpy as np\n",
    "import pandas as pd\n",
    "import matplotlib.pyplot as plt\n",
    "import seaborn as sns\n",
    "import dc_stat_think as dcst\n",
    "\n",
    "target_dir = \"/Charles/mjy/210505_A00869_0471_BH3NHMDSX2/mapping/human/bam/peak_quan/totalReads/forT2/targets/\"\n",
    "non_dir = \"/Charles/mjy/210505_A00869_0471_BH3NHMDSX2/mapping/human/bam/peak_quan/totalReads/forT2/non-targets/\"\n",
    "# target_list = glob.glob(\"%s/*.bed\" % target_dir)\n",
    "\n",
    "def get_fc_list(in_file):\n",
    "    df = pd.read_table(in_file, header=None)\n",
    "    df = df.dropna()\n",
    "    df['fc'] = df.iloc[:,4] / df.iloc[:,3]\n",
    "    fc_list = df['fc'].tolist()\n",
    "    fc_list = [x for x in fc_list if x != \"nan\"]\n",
    "    fc_list = [np.log2(x) for x in fc_list]\n",
    "    return fc_list\n",
    "\n",
    "\n",
    "target_file = os.path.join(target_dir, \"T2_m6ALevel.bed\")\n",
    "non_file = os.path.join(non_dir, \"T2_m6ALevel.bed\")\n",
    "t_list, n_list = get_fc_list(target_file), get_fc_list(non_file)\n",
    "####\n",
    "# n_list = random.sample(n_list, len(t_list))\n",
    "(ks_stat, pval) = stats.ks_2samp(t_list, n_list)\n",
    "print(os.path.basename(target_file), np.mean(t_list), np.mean(n_list), len(t_list), len(n_list), pval)\n",
    "\n",
    "x_asm6a, y_asm6a = dcst.ecdf(t_list)\n",
    "x, y = dcst.ecdf(n_list)\n",
    "_ = plt.plot(x_asm6a, y_asm6a, lw = 2)\n",
    "_ = plt.plot(x, y, lw = 2) # linestyle='--', \n",
    "_ = plt.legend((\"FUS targets (%d)\"% len(t_list), \"Non-targets (%d)\" % len(n_list)))\n",
    "_ = plt.xlabel('Fold change of m6A ratio\\n (shFUS/control)', size = 14) # Log2 \n",
    "_ = plt.ylabel('Cumulative fraction', size = 14)\n",
    "_ = plt.text(1.5, 0.5, 'pvalue=%e'%pval, horizontalalignment='center')\n",
    "sample = os.path.basename(target_file).split(\"_m6A.txt\")[0].replace(\"_\", \" vs \")\n",
    "_ = plt.text(1.5, 0.7, sample, horizontalalignment='center')\n",
    "_ = plt.xlim((-4,4))\n",
    "plt.show()"
   ]
  }
 ],
 "metadata": {
  "kernelspec": {
   "display_name": "Python 3",
   "language": "python",
   "name": "python3"
  },
  "language_info": {
   "codemirror_mode": {
    "name": "ipython",
    "version": 3
   },
   "file_extension": ".py",
   "mimetype": "text/x-python",
   "name": "python",
   "nbconvert_exporter": "python",
   "pygments_lexer": "ipython3",
   "version": "3.7.2"
  }
 },
 "nbformat": 4,
 "nbformat_minor": 5
}
