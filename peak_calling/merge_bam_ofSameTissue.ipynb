{
 "cells": [
  {
   "cell_type": "code",
   "execution_count": 5,
   "metadata": {},
   "outputs": [],
   "source": [
    "tissue_list = ['brain','heart','kidney','liver','lung','muscle']\n",
    "\n",
    "ip_dict = {\n",
    "    \"kidney\": ['kidney_IP_2','kidney_IP_3','kidney_IP_4'],\n",
    "    \"liver\":  [\"liver_IP_1\",'liver_IP_2','liver_IP_3'],\n",
    "    \"muscle\": [\"muscle_IP_4\",'muscle_IP_5'],\n",
    "    \"lung\":   ['lung_IP_4','lung_IP_5'],\n",
    "    \"heart\":  [\"heart_IP_1\",'heart_IP_2','heart_IP_3'],\n",
    "    \"brain\":  [\"brain_IP_1\",'brain_IP_2','brain_IP_3']\n",
    "}\n",
    "input_dict = {\n",
    "    \"kidney\": ['kidney_2_L7','kidney_3_L8','kidney_4_L6'],\n",
    "    \"liver\":  [\"liver_1_L6\",'liver_2_L7','liver_3_L6'],\n",
    "    \"muscle\": [\"muscle_4_L6\",'muscle_5_L7'],\n",
    "    \"lung\":   ['lung_4_L7','lung_5_L7'],\n",
    "    \"heart\":  [\"heart_1_L6\",'heart_2_L7','heart_3_L6'],\n",
    "    \"brain\":  [\"brain_1_L6\",'brain_2_L7','brain_3_L68']\n",
    "}\n",
    "\n",
    "input_dir = \"/Charles/project/ASm6A/corrected_input/\" # brain_1_L6/brain_1_L6-dedupped.bam\n",
    "ip_dir = \"/Charles/project/ASm6A/corrected_ip/\" # brain_IP_1/brain_IP_1-dedupped.bam\n",
    "result_dir = \"/Charles/project/ASm6A/peak_calling/merged_bam/\"\n",
    "shell = os.path.join(result_dir, \"run.sh\")\n",
    "os.chdir(result_dir)\n",
    "\n",
    "with open(shell, 'w') as fw:\n",
    "    for tissue in tissue_list:\n",
    "        ip_list = ip_dict[tissue]\n",
    "        input_list = input_dict[tissue]\n",
    "        ip_bam_list = [os.path.join(ip_dir, \"%s/%s-dedupped.bam\"% (p,p)) for p in ip_list]\n",
    "        input_bam_list = [os.path.join(input_dir, \"%s/%s-dedupped.bam\"% (p,p)) for p in input_list]\n",
    "        sub_dir = \"%s/\"%tissue\n",
    "        os.system(\"mkdir -p %s\" % sub_dir)\n",
    "        res_ip, res_input = \"%s/%s_ip.bam\" % (sub_dir, tissue), \"%s/%s_input.bam\" % (sub_dir, tissue)\n",
    "        fw.write(\"samtools merge -h %s %s %s\\n\" % (ip_bam_list[0], res_ip, \" \".join(ip_bam_list)))\n",
    "        fw.write(\"samtools merge -h %s %s %s\\n\" % (input_bam_list[0], res_input, \" \".join(input_bam_list)))"
   ]
  }
 ],
 "metadata": {
  "kernelspec": {
   "display_name": "Python 3",
   "language": "python",
   "name": "python3"
  },
  "language_info": {
   "codemirror_mode": {
    "name": "ipython",
    "version": 3
   },
   "file_extension": ".py",
   "mimetype": "text/x-python",
   "name": "python",
   "nbconvert_exporter": "python",
   "pygments_lexer": "ipython3",
   "version": "3.7.2"
  }
 },
 "nbformat": 4,
 "nbformat_minor": 2
}
