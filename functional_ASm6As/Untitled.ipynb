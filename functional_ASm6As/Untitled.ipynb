{
 "cells": [
  {
   "cell_type": "markdown",
   "id": "sublime-equivalent",
   "metadata": {},
   "source": [
    "#### get all the tag SNP list"
   ]
  },
  {
   "cell_type": "code",
   "execution_count": 8,
   "id": "reflected-lancaster",
   "metadata": {},
   "outputs": [
    {
     "name": "stdout",
     "output_type": "stream",
     "text": [
      "12056\n"
     ]
    }
   ],
   "source": [
    "os.chdir(\"/Charles/project/ASm6A/ASm6A/\")\n",
    "sample_list = glob.glob(\"*.bed\")\n",
    "tagSNP_list = []\n",
    "result_file = \"/Charles/project/ASm6A/ASm6A/functional_ASm6A/total_tagSNPs.bed\"\n",
    "\n",
    "def read_bed(in_bed):\n",
    "    df = pd.read_table(in_bed, header=None)\n",
    "    df['term'] = df.iloc[:,0] + \"\\t\" + df.iloc[:,1].astype(str) + \"\\t\" + df.iloc[:,2].astype(str) + \"\\n\"\n",
    "    snp_list = df['term'].tolist()\n",
    "    return list(set(snp_list))\n",
    "\n",
    "for sample in sample_list:\n",
    "    tagSNP_list += read_bed(sample)\n",
    "tagSNP_list = list(set(tagSNP_list))\n",
    "print(len(tagSNP_list))\n",
    "\n",
    "with open(result_file, 'w') as fw:\n",
    "        fw.writelines(tagSNP_list)"
   ]
  },
  {
   "cell_type": "markdown",
   "id": "wrapped-performer",
   "metadata": {},
   "source": [
    "#### extract GT and AD info from 90 samples vcf for each tag SNP."
   ]
  },
  {
   "cell_type": "code",
   "execution_count": 9,
   "id": "afraid-surface",
   "metadata": {},
   "outputs": [
    {
     "data": {
      "text/plain": [
       "0"
      ]
     },
     "execution_count": 9,
     "metadata": {},
     "output_type": "execute_result"
    }
   ],
   "source": [
    "vcf_dir = \"/Charles/project/ASm6A/corrected_vcf/vcf/rename/\"\n",
    "vcf_list = glob.glob(\"%s/*_gatk.vcf\" % vcf_dir)\n",
    "result_file = \"tagSNP_info.txt\"\n",
    "\n",
    "tagSNP = \"/Charles/project/ASm6A/ASm6A/functional_ASm6A/total_tagSNPs.bed\"\n",
    "vcf = \" \".join(vcf_list)\n",
    "os.system(\"bedtools intersect -a %s -b %s -wa -wb > %s\" % (tagSNP, vcf, result_file))"
   ]
  },
  {
   "cell_type": "code",
   "execution_count": 3,
   "id": "negative-plane",
   "metadata": {},
   "outputs": [
    {
     "name": "stdout",
     "output_type": "stream",
     "text": [
      "abcd\n"
     ]
    }
   ],
   "source": [
    "import math\n",
    "import scipy as sp\n",
    "import matplotlib.pyplot as plt\n",
    "import numpy as np\n",
    "from collections import defaultdict\n",
    "from sklearn.mixture import GaussianMixture\n",
    "%run smartFunctions.ipynb import distributeBins\n",
    "%run GMM_select_Peak.ipynb import calc_causalSNP\n",
    "\n",
    "print(\"abcd\")"
   ]
  }
 ],
 "metadata": {
  "kernelspec": {
   "display_name": "Python 3",
   "language": "python",
   "name": "python3"
  },
  "language_info": {
   "codemirror_mode": {
    "name": "ipython",
    "version": 3
   },
   "file_extension": ".py",
   "mimetype": "text/x-python",
   "name": "python",
   "nbconvert_exporter": "python",
   "pygments_lexer": "ipython3",
   "version": "3.7.2"
  }
 },
 "nbformat": 4,
 "nbformat_minor": 5
}
