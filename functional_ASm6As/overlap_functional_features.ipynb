{
 "cells": [
  {
   "cell_type": "code",
   "execution_count": 10,
   "metadata": {},
   "outputs": [
    {
     "name": "stdout",
     "output_type": "stream",
     "text": [
      "ASE 473 407\n",
      "gwas 98 105\n",
      "CausalVariants 497 484\n",
      "total_sQTL 1201 1188\n",
      "total_eQTL 1744 1716\n"
     ]
    }
   ],
   "source": [
    "func = \"/Charles/project/ASm6A/ASm6A/common_ASm6A/totaltissues/homer_anno/split_region/common/SNPsnap/Input_SNP.bed\"\n",
    "gener = \"/Charles/project/ASm6A/ASm6A/homer_anno/SNPsnap/random_2801/SNPsnap/Input_SNP.bed\"\n",
    "\n",
    "\n",
    "ase = \"/home/galaxy/project/alleleSpecific_analysis/data/jointAnalysis/AS/LCL/AlleleDB/ASE_hg19.bed\"\n",
    "gwas = \"/home/database/GWAS/gwas_hg19.bed\"\n",
    "causalSNP = \"/home/galaxy/project/alleleSpecific_analysis/data/CAUSALdb/credible_set/total/CausalVariants_hg19.bed\"\n",
    "sqtl = \"/Charles/project/ASm6A/data/jointAnalysis/total_sQTL_hg19.bed\"\n",
    "eqtl = \"/Charles/project/ASm6A/data/jointAnalysis/total_eQTL_hg19.bed\"\n",
    "\n",
    "for feature in [ase, gwas, causalSNP, sqtl, eqtl]:\n",
    "    num_func = os.popen(\"bedtools intersect -a %s -b %s -wa | sort -u | wc -l\" % (func, feature)).read().split()[0]\n",
    "    num_gener = os.popen(\"bedtools intersect -a %s -b %s -wa | sort -u |wc -l\" %(gener, feature)).read().split()[0]\n",
    "    print(os.path.basename(feature).split(\"_hg19.bed\")[0], num_func, num_gener)"
   ]
  },
  {
   "cell_type": "code",
   "execution_count": 14,
   "metadata": {},
   "outputs": [
    {
     "name": "stdout",
     "output_type": "stream",
     "text": [
      "ASE 2393\n",
      "2.217047886786137\n",
      "total_ASB 2393\n",
      "2.3939388913310364\n",
      "gwas 2393\n",
      "1.22668575355468\n",
      "CausalVariants 2393\n",
      "1.5475945443624977\n",
      "total_sQTL 2393\n",
      "1.380715922388812\n",
      "total_eQTL 2393\n",
      "1.459642613685511\n"
     ]
    }
   ],
   "source": [
    "#### enrichment estimate\n",
    "#### compare functional ASm6As with ASm6As (没有出现明显更富集的现象)\n",
    "\n",
    "from scipy import stats\n",
    "\n",
    "## functional features\n",
    "ase = \"/home/galaxy/project/alleleSpecific_analysis/data/jointAnalysis/AS/LCL/AlleleDB/ASE_hg19.bed\"\n",
    "asb = \"/home/galaxy/project/alleleSpecific_analysis/data/jointAnalysis/AS/total_ASB_hg19.bed\"\n",
    "gwas = \"/home/database/GWAS/gwas_hg19.bed\"\n",
    "causalSNP = \"/home/galaxy/project/alleleSpecific_analysis/data/CAUSALdb/credible_set/total/CausalVariants_hg19.bed\"\n",
    "sqtl = \"/Charles/project/ASm6A/data/jointAnalysis/total_sQTL_hg19.bed\"\n",
    "eqtl = \"/Charles/project/ASm6A/data/jointAnalysis/total_eQTL_hg19.bed\"\n",
    "\n",
    "## ASm6As\n",
    "# SNPsnap_dir = \"/Charles/project/ASm6A/ASm6A/homer_anno/SNPsnap/random_2801/SNPsnap/\"\n",
    "# SNPsnap_dir = \"/Charles/project/ASm6A/ASm6A/homer_anno/SNPsnap/total/SNPsnap/\"\n",
    "SNPsnap_dir = \"/Charles/project/ASm6A/ASm6A/common_ASm6A/totaltissues/homer_anno/split_region/common/SNPsnap/\"\n",
    "os.chdir(SNPsnap_dir)\n",
    "asm6a = \"Input_SNP.bed\"\n",
    "asm6a_num = int(os.popen(\"wc -l %s\" % asm6a).read().split()[0])\n",
    "for feature in [ase, asb, gwas, causalSNP, sqtl, eqtl]:\n",
    "    print(os.path.basename(feature).split(\"_hg19.bed\")[0],  asm6a_num)\n",
    "    overlap_asm6a=os.popen(\"bedtools intersect -a %s -b %s -wa|sort -u|wc -l\"%(asm6a,feature)).read().split()[0]\n",
    "    ratio_list = []\n",
    "    for i in range(1, 101): \n",
    "#     i = 1\n",
    "        con = \"Set_%d.bed\" % i\n",
    "        con_num = int(os.popen(\"wc -l %s\" % con).read().split()[0])\n",
    "        overlap_con=os.popen(\"bedtools intersect -a %s -b %s -wa|sort -u|wc -l\"%(con,feature)).read().split()[0]\n",
    "        a,b,c,d = int(overlap_asm6a), int(overlap_con), asm6a_num-int(overlap_asm6a), con_num-int(overlap_con)\n",
    "        oddsratio,pvalue = stats.fisher_exact([[a+1,b+1], [c+1,d+1]])\n",
    "        if pvalue <= 0.05:\n",
    "            ratio_list.append(oddsratio)\n",
    "        else:\n",
    "            ratio_list.append(0)\n",
    "#                 print(\"####             ASm6A   Control\")\n",
    "#                 print(\"# Enhancer         %d       %d  \" % (a,b))\n",
    "#                 print(\"# Non-Enhancer     %d       %d  \" % (c,d))\n",
    "#                 print(\"#############################\\n\\n\")\n",
    "    print(\"\\t\".join([str(np.mean(ratio_list))]))\n",
    "#     print(oddsratio, pvalue, a,b,c,d)"
   ]
  },
  {
   "cell_type": "markdown",
   "metadata": {},
   "source": [
    "#### Results\n",
    "#### 100 sets (total ASm6As)\n",
    "ASE 10288\n",
    "2.171143018758728\n",
    "total_ASB 10288\n",
    "1.983817973934595\n",
    "gwas 10288\n",
    "1.6230489100454517\n",
    "CausalVariants 10288\n",
    "1.6619579752904354\n",
    "total_sQTL 10288\n",
    "1.5279060431654667\n",
    "total_eQTL 10288\n",
    "1.6812460965319835"
   ]
  }
 ],
 "metadata": {
  "kernelspec": {
   "display_name": "Python 3",
   "language": "python",
   "name": "python3"
  },
  "language_info": {
   "codemirror_mode": {
    "name": "ipython",
    "version": 3
   },
   "file_extension": ".py",
   "mimetype": "text/x-python",
   "name": "python",
   "nbconvert_exporter": "python",
   "pygments_lexer": "ipython3",
   "version": "3.7.2"
  }
 },
 "nbformat": 4,
 "nbformat_minor": 2
}
