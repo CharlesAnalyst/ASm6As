{
 "cells": [
  {
   "cell_type": "code",
   "execution_count": 8,
   "metadata": {},
   "outputs": [
    {
     "name": "stdout",
     "output_type": "stream",
     "text": [
      "0.1 6843\n",
      "0.15 6843\n",
      "0.2 6843\n",
      "0.25 6843\n",
      "0.3 6843\n",
      "0.35 6843\n",
      "0.4 6843\n",
      "0.45 6843\n",
      "0.5 6843\n",
      "0.55 5395\n",
      "0.6 5111\n",
      "0.65 4601\n",
      "0.7 3490\n",
      "0.75 3297\n",
      "0.8 2801\n",
      "0.85 2433\n",
      "0.9 2285\n",
      "0.95 2244\n",
      "1.0 2243\n"
     ]
    }
   ],
   "source": [
    "# select ASm6As that have the same trend across samples which contains the same ASm6A\n",
    "from collections import Counter\n",
    "\n",
    "#### ASm6A\n",
    "asm6a_dir = \"/Charles/project/ASm6A/ASm6A/\"\n",
    "###########\n",
    "# Prop = 0.8\n",
    "###########\n",
    "\n",
    "def select_functional_ASm6A(prop):\n",
    "    result_dir = \"/Charles/project/ASm6A/ASm6A/common_ASm6A/totaltissues/optimal_cutoff/\"\n",
    "    result_file = os.path.join(result_dir, \"ASm6A_%s.bed\" % str(prop))\n",
    "    # os.chdir(asm6a_dir)\n",
    "    # result_dir = \"common_ASm6A/totaltissues/\"\n",
    "    # os.system(\"mkdir -p %s\" % result_dir)\n",
    "    # result_file = os.path.join(result_dir, \"common_ASm6A.bed\")  #########\n",
    "    #####################################################################################\n",
    "    m6a_dict = {}\n",
    "    bed_list = glob.glob(\"%s/*.bed\" % asm6a_dir)\n",
    "    for bed in bed_list:\n",
    "        if os.path.getsize(bed):\n",
    "            sample = os.path.basename(bed)\n",
    "            df = pd.read_table(bed, header=None)\n",
    "            ## chr1:846078:ref>alt\n",
    "            df['term'] = df.iloc[:,0] + \":\" + df.iloc[:,2].astype(str) + \":\" + df.iloc[:,3].str.split(\";\").str[0]\n",
    "            df['mark'] = df.iloc[:,3].str.split(\";\").str[-1]\n",
    "            term_list, mark_list = df['term'].tolist(), df['mark'].tolist()\n",
    "            for i in range(len(term_list)):\n",
    "                m6a_dict[term_list[i]] = m6a_dict.get(term_list[i], []) + [mark_list[i]]\n",
    "\n",
    "    final_list = []\n",
    "    for term, mark_list in m6a_dict.items():\n",
    "        ## appear at least twice\n",
    "        if len(mark_list) >= 2: \n",
    "            ## the mark must be same across all samples\n",
    "            count, new_line = Counter(mark_list), \"\"\n",
    "            if (count['ref']/(count['ref']+count['alt'])) >= prop:\n",
    "                new_line = [term.split(\":\")[0], int(term.split(\":\")[1])-1, int(term.split(\":\")[1]), \"ref\", term.split(\":\")[2]]\n",
    "                final_list.append(new_line)\n",
    "            elif (count['alt']/(count['ref']+count['alt'])) >= prop:\n",
    "                new_line = [term.split(\":\")[0], int(term.split(\":\")[1])-1, int(term.split(\":\")[1]), \"alt\", term.split(\":\")[2]]\n",
    "                final_list.append(new_line)\n",
    "    df = pd.DataFrame(final_list)\n",
    "    print(prop, len(df))\n",
    "    df.drop_duplicates().to_csv(result_file, sep=\"\\t\", header=False, index=False)\n",
    "\n",
    "    \n",
    "##### run\n",
    "for prop in range(10, 105, 5):\n",
    "    prop = prop / 100\n",
    "    select_functional_ASm6A(prop)"
   ]
  },
  {
   "cell_type": "code",
   "execution_count": 1,
   "metadata": {},
   "outputs": [],
   "source": [
    "#### split into different tissues\n",
    "os.chdir(\"/Charles/project/ASm6A/ASm6A/common_ASm6A/totaltissues/\")\n",
    "result_dir = \"by_sample\"\n",
    "os.system(\"mkdir -p %s\" % result_dir)\n",
    "##\n",
    "ASm6A_dir = \"/Charles/project/ASm6A/ASm6A/\"\n",
    "bed_list = glob.glob(\"%s/*.bed\" % ASm6A_dir)\n",
    "####\n",
    "functional_ASm6A = \"common_ASm6A.bed\"\n",
    "\n",
    "for asm6A in bed_list:\n",
    "    res = os.path.join(result_dir, os.path.basename(asm6A))\n",
    "    os.system(\"bedtools intersect -a %s -b %s -wa | sort -u > %s\" % (asm6A, functional_ASm6A, res))"
   ]
  }
 ],
 "metadata": {
  "kernelspec": {
   "display_name": "Python 3",
   "language": "python",
   "name": "python3"
  },
  "language_info": {
   "codemirror_mode": {
    "name": "ipython",
    "version": 3
   },
   "file_extension": ".py",
   "mimetype": "text/x-python",
   "name": "python",
   "nbconvert_exporter": "python",
   "pygments_lexer": "ipython3",
   "version": "3.7.2"
  }
 },
 "nbformat": 4,
 "nbformat_minor": 2
}
