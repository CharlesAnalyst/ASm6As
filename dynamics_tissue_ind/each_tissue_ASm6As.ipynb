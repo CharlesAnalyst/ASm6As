{
 "cells": [
  {
   "cell_type": "markdown",
   "metadata": {},
   "source": [
    "#### divided ASm6As into different tissues"
   ]
  },
  {
   "cell_type": "code",
   "execution_count": 7,
   "metadata": {},
   "outputs": [],
   "source": [
    "### ,'Muscle-3-2.bed','Muscle-5-3.bed'\n",
    "sample_dict = {\n",
    "\"kidney\": ['kidney_IP_2.bed','kidney_IP_3.bed','kidney_IP_4.bed','Kidney_1.bed','Kidney_2.bed','Kidney_3.bed'],\n",
    "\"liver\":  [\"liver_IP_1.bed\",'liver_IP_2.bed','liver_IP_3.bed','Liver-4-2.bed','Liver_1.bed','Liver_2.bed','Liver_3.bed'],\n",
    "\"muscle\": [\"muscle_IP_4.bed\",'muscle_IP_5.bed','Muscle_1.bed','Muscle_2.bed','Muscle_3.bed'],\n",
    "\"lung\":   ['lung_IP_4.bed','lung_IP_5.bed','Lung-2-1.bed','Lung-2-4.bed','Lung-4-2.bed','Lung-4-4.bed','Lung_1.bed','Lung_2.bed','Lung_3.bed'],\n",
    "\"heart\":  [\"heart_IP_1.bed\",'heart_IP_2.bed','heart_IP_3.bed','Heart-1-1.bed','Heart-4-2.bed','Heart_1.bed','Heart_2.bed','Heart_3.bed'],\n",
    "\"brain\":  [\"brain_IP_1.bed\",'brain_IP_2.bed','brain_IP_3.bed','Brainstem-5-3.bed','Cerebellum-5-3.bed','Cerebellum-7-4.bed','Cerebrum-5-3.bed','Cerebrum-6-3.bed','Hypothalamus-5-3.bed','Cerebellum_1.bed','Cerebellum_2.bed','Cerebellum_3.bed','FrontalCortex_1.bed','FrontalCortex_2.bed','FrontalCortex_3.bed']\n",
    "            }"
   ]
  },
  {
   "cell_type": "code",
   "execution_count": 6,
   "metadata": {},
   "outputs": [],
   "source": [
    "from collections import Counter\n",
    "\n",
    "def read_file(in_file):\n",
    "    df = pd.read_table(in_file, header=None)\n",
    "    # df['term'] = df.iloc[:,0] + \":\" + df.iloc[:,2].astype(str)\n",
    "    df['change'] = df.iloc[:,3].str.split(\";\").str[0]\n",
    "    df['term'] = df.iloc[:,0] + \":\" + df.iloc[:,2].astype(str) + \":\" + df['change']\n",
    "    return list(set(df['term'].tolist()))\n",
    "\n",
    "def process_each_tissue(sample_list):\n",
    "    total_list = []\n",
    "    for x in sample_list:\n",
    "        total_list += read_file(x)\n",
    "    t = Counter(total_list)\n",
    "    array_list = []\n",
    "    for a,b in t.items():\n",
    "        if b >= 2: ###\n",
    "            # array_list.append([a.split(\":\")[0], int(a.split(\":\")[1])-1, int(a.split(\":\")[1])])\n",
    "            array_list.append([a.split(\":\")[0], int(a.split(\":\")[1])-1, int(a.split(\":\")[1]), a.split(\":\")[2]])\n",
    "    df = pd.DataFrame(array_list)\n",
    "    return df\n",
    "\n",
    "####\n",
    "data_dir = \"/Charles/project/ASm6A/ASm6A/\"\n",
    "os.chdir(data_dir)\n",
    "result_dir = \"by_tissue/\"\n",
    "os.system(\"mkdir -p %s\" % result_dir)\n",
    "for tissue, sample_list in sample_dict.items():\n",
    "    df = process_each_tissue(sample_list)\n",
    "    result_file = os.path.join(result_dir, \"%s.bed\" % tissue)\n",
    "    df.to_csv(result_file, sep=\"\\t\", header=False, index=False)"
   ]
  },
  {
   "cell_type": "code",
   "execution_count": null,
   "metadata": {},
   "outputs": [],
   "source": [
    "## Go to \"ASm6A_analysis/select_control/\""
   ]
  }
 ],
 "metadata": {
  "kernelspec": {
   "display_name": "Python 3",
   "language": "python",
   "name": "python3"
  },
  "language_info": {
   "codemirror_mode": {
    "name": "ipython",
    "version": 3
   },
   "file_extension": ".py",
   "mimetype": "text/x-python",
   "name": "python",
   "nbconvert_exporter": "python",
   "pygments_lexer": "ipython3",
   "version": "3.7.2"
  }
 },
 "nbformat": 4,
 "nbformat_minor": 2
}
