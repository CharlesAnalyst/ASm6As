{
 "cells": [
  {
   "cell_type": "code",
   "execution_count": null,
   "metadata": {},
   "outputs": [],
   "source": [
    "from scipy import stats\n",
    "from multiprocessing import Pool\n",
    "from statsmodels.stats.multitest import fdrcorrection\n",
    "\n",
    "os.chdir(\"/home/galaxy/project/alleleSpecific_analysis/data/shFUS/count/new_count/\")\n",
    "\n",
    "def preprocess_df():\n",
    "    ####################################################\n",
    "    result_dir = \"sig/binomi/\"\n",
    "    os.system(\"mkdir -p %s\" % result_dir)\n",
    "    result_file = os.path.join(result_dir, \"Fus2.txt\")          ####################\n",
    "    ####################################################\n",
    "    input_file = \"Fus2-inp_L4_710D01.readcounts.txt\" ####################\n",
    "    df = pd.read_table(input_file)\n",
    "    #####################################################\n",
    "    df = df[(df['refCount']>=2) & (df['altCount']>=2)]\n",
    "    df = df[(df['refCount'] + df['altCount'])>=10]\n",
    "    #######################################################\n",
    "    df['allelicRatio'] = df['refCount'] / (df['refCount'] + df['altCount'])\n",
    "    pvalue_list = []\n",
    "    for a, b in df.iterrows():\n",
    "        ref, alt = b['refCount'], b['altCount']\n",
    "        total = ref + alt\n",
    "        pvalue = stats.binom_test(alt, n=total, p=0.5)\n",
    "        pvalue_list.append(pvalue)\n",
    "    qvalue_list = list(fdrcorrection(pvalue_list)[1])\n",
    "    df['bino_pvalue'] = pvalue_list\n",
    "    df['qvalue'] = qvalue_list\n",
    "    df.to_csv(result_file, sep=\"\\t\", index=False)\n",
    "###\n",
    "preprocess_df()"
   ]
  }
 ],
 "metadata": {
  "kernelspec": {
   "display_name": "Python 3",
   "language": "python",
   "name": "python3"
  },
  "language_info": {
   "codemirror_mode": {
    "name": "ipython",
    "version": 3
   },
   "file_extension": ".py",
   "mimetype": "text/x-python",
   "name": "python",
   "nbconvert_exporter": "python",
   "pygments_lexer": "ipython3",
   "version": "3.7.2"
  }
 },
 "nbformat": 4,
 "nbformat_minor": 2
}
