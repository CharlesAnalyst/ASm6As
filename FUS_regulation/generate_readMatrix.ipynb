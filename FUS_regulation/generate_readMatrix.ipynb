{
 "cells": [
  {
   "cell_type": "code",
   "execution_count": 10,
   "metadata": {},
   "outputs": [],
   "source": [
    "####  merge ip and input raw read counts into a matrix\n",
    "\n",
    "###########################################################################\n",
    "os.chdir(\"/Charles/project/ASm6A/shFUS/mapping/human/uniq_bam/count/\")\n",
    "result_dir = \"read_matrix/\"\n",
    "os.system(\"mkdir -p %s\" % result_dir)\n",
    "##\n",
    "# ip_count = \"IP1_L3_701D08.readcounts.txt\"\n",
    "# input_count = \"inp1_L3_707D08.readcounts.txt\"\n",
    "# ip_count = \"IP2_L3_702D08.readcounts.txt\"\n",
    "# input_count = \"inp2_L3_708D08.readcounts.txt\"\n",
    "# ip_count = \"IP3_L3_703D08.readcounts.txt\"\n",
    "# input_count = \"inp3_L3_709D08.readcounts.txt\"\n",
    "# ip_count = \"IP4_L3_704D08.readcounts.txt\"\n",
    "# input_count = \"inp4_L3_710D08.readcounts.txt\"\n",
    "# ip_count = \"IP5_L3_705D08.readcounts.txt\"\n",
    "# input_count = \"inp5_L3_711D08.readcounts.txt\"\n",
    "ip_count = \"IP6_L3_706D08.readcounts.txt\"\n",
    "input_count = \"inp6_L3_712D08.readcounts.txt\"\n",
    "prefix = \"kd2-2\"\n",
    "result_file = os.path.join(result_dir, \"%s.txt\" % prefix)\n",
    "############################################################################\n",
    "\n",
    "# filter based on read counts > 5;\n",
    "def preprocess_count(in_file, file_type):  # file_type == \"ip\" or \"input\"\n",
    "    df = pd.read_table(in_file)\n",
    "    df[\"ID\"] = df[\"contig\"] + \":\" + df[\"position\"].astype(str)\n",
    "    df = df[[\"ID\", \"refCount\", \"altCount\"]]\n",
    "    #########\n",
    "    if file_type == \"ip\":\n",
    "        df = df[(df['refCount'] + df['altCount']) >= 10]\n",
    "    elif file_type == \"input\":\n",
    "        df = df[(df['refCount'] >= 2) & (df['altCount'] >= 2)]\n",
    "        df = df[(df['refCount'] + df['altCount']) >= 10]\n",
    "    #########\n",
    "    df.columns = [\"ID\", \"refCount_%s\" % file_type,\n",
    "            \"altCount_%s\" % file_type]\n",
    "    return df\n",
    "\n",
    "df_input, df_ip = preprocess_count(input_count, \"input\"), preprocess_count(\n",
    "    ip_count, \"ip\")\n",
    "df = df_input.merge(df_ip, on=\"ID\")\n",
    "df.to_csv(result_file, sep=\"\\t\", index=False)"
   ]
  }
 ],
 "metadata": {
  "kernelspec": {
   "display_name": "Python 3",
   "language": "python",
   "name": "python3"
  },
  "language_info": {
   "codemirror_mode": {
    "name": "ipython",
    "version": 3
   },
   "file_extension": ".py",
   "mimetype": "text/x-python",
   "name": "python",
   "nbconvert_exporter": "python",
   "pygments_lexer": "ipython3",
   "version": "3.7.2"
  }
 },
 "nbformat": 4,
 "nbformat_minor": 2
}
