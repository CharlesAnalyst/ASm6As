{
 "cells": [
  {
   "cell_type": "code",
   "execution_count": 1,
   "id": "earned-coating",
   "metadata": {},
   "outputs": [
    {
     "name": "stderr",
     "output_type": "stream",
     "text": [
      "/home/galaxy/anaconda3/lib/python3.7/importlib/_bootstrap.py:219: RuntimeWarning: numpy.ufunc size changed, may indicate binary incompatibility. Expected 192 from C header, got 216 from PyObject\n",
      "  return f(*args, **kwds)\n"
     ]
    }
   ],
   "source": [
    "from scipy import stats\n",
    "from multiprocessing import Pool\n",
    "from statsmodels.stats.multitest import fdrcorrection\n",
    "\n",
    "os.chdir(\"/Charles/project/ASm6A/shFUS/mapping/human/uniq_bam/count/read_matrix/\")\n",
    "result_dir = \"Fisher/\"\n",
    "os.system(\"mkdir -p %s\" % result_dir)\n",
    "sample_list = glob.glob(\"*.txt\")\n",
    "for sample in sample_list:\n",
    "    df = pd.read_table(sample)\n",
    "    ## Fisher's exact test\n",
    "    pvalue_list, odds_list = [], []\n",
    "    for i, j in df.iterrows():\n",
    "        a, b = round(j['refCount_ip']) + 1, round(j['altCount_ip']) + 1\n",
    "        c, d = round(j['refCount_input']) + 1, round(j['altCount_input']) + 1\n",
    "        oddsratio, pvalue = stats.fisher_exact([[a, b], [c, d]])\n",
    "        pvalue_list.append(pvalue)\n",
    "        odds_list.append(oddsratio)\n",
    "    ## FDR correction\n",
    "    qvalue_list = list(fdrcorrection(pvalue_list)[1])\n",
    "    df['pvalue'], df['oddsratio'], df[\n",
    "        'qvalue'] = pvalue_list, odds_list, qvalue_list\n",
    "    df_sub = df[[\n",
    "        'ID','refCount_ip', 'altCount_ip', 'refCount_input', 'altCount_input','pvalue', 'oddsratio', 'qvalue'\n",
    "    ]]\n",
    "    result_file = os.path.join(result_dir, os.path.basename(sample))\n",
    "    df_sub.to_csv(result_file, sep=\"\\t\", index=False)"
   ]
  },
  {
   "cell_type": "code",
   "execution_count": 22,
   "id": "complimentary-vintage",
   "metadata": {},
   "outputs": [
    {
     "name": "stdout",
     "output_type": "stream",
     "text": [
      "70 80 7\n",
      "['chr9:14764;ref', 'chr19:11777151;ref', 'chr12:11324176;alt', 'chr15:80886555;alt', 'chr19:11777361;ref', 'chr17:2203167;alt', 'chr8:17612875;ref']\n"
     ]
    }
   ],
   "source": [
    "os.chdir(\"/Charles/project/ASm6A/shFUS/mapping/human/uniq_bam/count/read_matrix/Fisher/\")\n",
    "# for x in glob.glob(\"*.txt\"):\n",
    "#     df = pd.read_table(x)\n",
    "#     df = df[df['pvalue'] < 0.05]\n",
    "#     print(x, len(df))\n",
    "\n",
    "def get_sig_ASm6As(in_file):\n",
    "    df = pd.read_table(in_file)\n",
    "    df['mark'] = np.where(df['oddsratio']>1, \"ref\", \"alt\")\n",
    "    df['term'] = df['ID'] + \";\" + df['mark']\n",
    "#     df['term'] = df['ID']\n",
    "    df = df[df['pvalue'] < 0.05]\n",
    "    return df['term'].tolist()\n",
    "\n",
    "repeat_1, repeat_2 = \"kd1-1.txt\", \"kd1-2.txt\"\n",
    "list_1, list_2 = get_sig_ASm6As(repeat_1), get_sig_ASm6As(repeat_2)\n",
    "# print(list_1)\n",
    "# print(list_2)\n",
    "print(len(list_1), len(list_2), len(list(set(list_1).intersection(set(list_2)))))\n",
    "print(list(set(list_1).intersection(set(list_2))))"
   ]
  },
  {
   "cell_type": "code",
   "execution_count": null,
   "id": "joint-advisory",
   "metadata": {},
   "outputs": [],
   "source": [
    "#### "
   ]
  }
 ],
 "metadata": {
  "kernelspec": {
   "display_name": "Python 3",
   "language": "python",
   "name": "python3"
  },
  "language_info": {
   "codemirror_mode": {
    "name": "ipython",
    "version": 3
   },
   "file_extension": ".py",
   "mimetype": "text/x-python",
   "name": "python",
   "nbconvert_exporter": "python",
   "pygments_lexer": "ipython3",
   "version": "3.7.2"
  }
 },
 "nbformat": 4,
 "nbformat_minor": 5
}
