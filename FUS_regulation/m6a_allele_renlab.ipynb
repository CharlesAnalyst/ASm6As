{
 "cells": [
  {
   "cell_type": "code",
   "execution_count": null,
   "metadata": {},
   "outputs": [],
   "source": [
    "##### https://github.com/Jakob666/allele-specificM6A\n",
    "# for vcf in *.vcf;do sed 's/^chr//g' $vcf > forRen_analysis/$vcf;done\n",
    "# "
   ]
  },
  {
   "cell_type": "code",
   "execution_count": 5,
   "metadata": {},
   "outputs": [
    {
     "data": {
      "text/plain": [
       "256"
      ]
     },
     "execution_count": 5,
     "metadata": {},
     "output_type": "execute_result"
    }
   ],
   "source": [
    "#### replace refseq accession to ENSEMBL; sed -n l | head -n 3\n",
    "#### replace \"chr1\" with \"1\";\n",
    "gtf = \"/home/mjy/software/allele-specificM6A/Homo_sapiens.GRCh37.87.gtf\"\n",
    "vcf_dir = \"/home/galaxy/project/alleleSpecific_analysis/data/shFUS/vcf_dir/filtered_vcf/\"\n",
    "bed_dir = \"/home/galaxy/project/alleleSpecific_analysis/data/shFUS/peak/MeTPeak/\"\n",
    "nc_vcf, kd_vcf = \"%s/Nc1-inp_L4_709D01_gatk_het_SNP.vcf\" % vcf_dir, \"%s/Fus2-inp_L4_710D01_gatk_het_SNP.vcf\" % vcf_dir\n",
    "nc_bed, kd_bed = \"%s/wt/replace_peak.bed\" % bed_dir, \"%s/kd/replace_peak.bed\" % bed_dir\n",
    "##\n",
    "software_dir = \"/home/software/allele-specificM6A/allele-specificM6A-master/\"\n",
    "##\n",
    "result_file = \"/home/galaxy/project/alleleSpecific_analysis/data/shFUS/ASm6A/diff_ASm6A/res.txt\"\n",
    "#### ASm6A\n",
    "commond_1 = \"java -jar renlabm6a_allele.jar AsmPeakDetection -g Homo_sapiens.GRCh37.87.gtf -bed replace_peak.bed2 -vcf brain_1_L6_gatk_het.vcf -o ASm6A_test/test.txt -t 25\"\n",
    "#### sample-specific ASm6A\n",
    "commond_2 = \"java -jar %s/renlabm6a_allele.jar SampleSpecificASM -g %s -s1_bed %s -s2_bed %s -s1_vcf %s -s2_vcf %s -o %s -t 25\" % (\n",
    "    software_dir, gtf, nc_bed, kd_bed, nc_vcf, kd_vcf, result_file)\n",
    "os.system(commond_2)"
   ]
  }
 ],
 "metadata": {
  "kernelspec": {
   "display_name": "Python 3",
   "language": "python",
   "name": "python3"
  },
  "language_info": {
   "codemirror_mode": {
    "name": "ipython",
    "version": 3
   },
   "file_extension": ".py",
   "mimetype": "text/x-python",
   "name": "python",
   "nbconvert_exporter": "python",
   "pygments_lexer": "ipython3",
   "version": "3.7.2"
  }
 },
 "nbformat": 4,
 "nbformat_minor": 2
}
