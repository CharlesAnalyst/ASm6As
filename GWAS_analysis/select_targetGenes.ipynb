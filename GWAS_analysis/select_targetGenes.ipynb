{
 "cells": [
  {
   "cell_type": "markdown",
   "metadata": {},
   "source": [
    "#### select target genes"
   ]
  },
  {
   "cell_type": "markdown",
   "metadata": {},
   "source": [
    "#### pre-process\n",
    "#### 1. eQTL and sQTL snp-gene\n",
    "#### 2. Gene annotation (based on TSS (promoter))\n",
    "#### 3. Hi-C"
   ]
  },
  {
   "cell_type": "code",
   "execution_count": 4,
   "metadata": {},
   "outputs": [],
   "source": [
    "tissue_dict = {\n",
    "    \"brain\":  [\"Brain_Frontal_Cortex_BA9\", \"Brain_Cerebellar_Hemisphere\",\n",
    "               'Brain_Spinal_cord_cervical_c-1','Brain_Cerebellum','Brain_Caudate_basal_ganglia',\n",
    "               'Brain_Nucleus_accumbens_basal_ganglia','Brain_Hippocampus','Brain_Hypothalamus',\n",
    "               'Brain_Amygdala','Brain_Putamen_basal_ganglia','Brain_Anterior_cingulate_cortex_BA24',\n",
    "               'Brain_Substantia_nigra','Brain_Cortex'],\n",
    "    \"muscle\": [\"Esophagus_Muscularis\",\"Muscle_Skeletal\"],\n",
    "    \"liver\":  [\"Liver\"],\n",
    "    \"lung\":   [\"Lung\"],\n",
    "    \"heart\":  ['Heart_Left_Ventricle','Heart_Atrial_Appendage'],\n",
    "    \"kidney\": ['Kidney_Cortex']\n",
    "}"
   ]
  },
  {
   "cell_type": "code",
   "execution_count": 15,
   "metadata": {},
   "outputs": [
    {
     "name": "stdout",
     "output_type": "stream",
     "text": [
      "brain\n",
      "muscle\n",
      "liver\n",
      "lung\n",
      "heart\n",
      "kidney\n"
     ]
    }
   ],
   "source": [
    "#### eQTL or sQTL\n",
    "# os.chdir(\"/home/galaxy/project/alleleSpecific_analysis/data/jointAnalysis/QTL/GTEx_db/eQTL/GTEx_Analysis_v8_eQTL/\")\n",
    "os.chdir(\"/home/galaxy/project/alleleSpecific_analysis/data/jointAnalysis/QTL/GTEx_db/sQTL/GTEx_Analysis_v8_sQTL/\")\n",
    "os.chdir(\"hg38_bed/hg19_bed/\")\n",
    "result_dir = \"by_tissue/\"\n",
    "os.system(\"mkdir -p %s\" % result_dir)\n",
    "#### postfix = \".v8.signif_variant_gene_pairs.txt\"\n",
    "#### file_list = glob.glob(\"*%s\" % postfix)\n",
    "\n",
    "def map_snp2gene(tissue, bed_list):\n",
    "    df_list = [pd.read_table(bed, header=None) for bed in bed_list]\n",
    "    ### combine all samples from the same tissue\n",
    "    df = pd.concat(df_list)\n",
    "    df['term'] = df.iloc[:,0] + \":\" + df.iloc[:,2].astype(str)\n",
    "    df['gene'] = df.iloc[:,3]\n",
    "    # snp2gene_dict = dict(zip(df['term'].tolist(), df.iloc[:,3].tolist()))\n",
    "    #     return snp2gene_dict\n",
    "    df_sub = df[['term','gene']]\n",
    "    return df_sub\n",
    "    \n",
    "for tissue, p_list in tissue_dict.items():\n",
    "    print(tissue)\n",
    "    bed_list = [\"%s.bed\"%x for x in p_list]\n",
    "    df = map_snp2gene(tissue, bed_list)  # {\"term\": \"gene\"}\n",
    "    res = os.path.join(result_dir, \"%s.bed\"%tissue)\n",
    "    df.to_csv(res, sep=\"\\t\", header=False, index=False)"
   ]
  },
  {
   "cell_type": "code",
   "execution_count": 25,
   "metadata": {},
   "outputs": [],
   "source": [
    "#### gene\n",
    "def extra_tss():\n",
    "    gene = \"/home/galaxy/project/alleleSpecific_analysis/data/hg19_genome/gencode.v19.annotation_Gene.bed\"\n",
    "    df = pd.read_table(gene, header=None)\n",
    "    df['chr'] = df.iloc[:,0]\n",
    "    df['start'] = np.where(df.iloc[:,1] > 2000, df.iloc[:,1] - 2000, 0)\n",
    "    df['end'] = df.iloc[:,2]\n",
    "    df['gene'] = df.iloc[:,3]\n",
    "    tss_bed = \"/home/galaxy/project/alleleSpecific_analysis/data/hg19_genome/gencode.v19.annotation_GeneTSS2kb-Genend.bed\"\n",
    "    df[['chr','start','end','gene']].to_csv(tss_bed, sep=\"\\t\", header=False, index=False)\n",
    "\n",
    "# extra_tss()"
   ]
  },
  {
   "cell_type": "code",
   "execution_count": 26,
   "metadata": {},
   "outputs": [],
   "source": [
    "#### TAD\n",
    "# TAD = \"/Charles/project/ASm6A/data/ALS_FUS_mut/GSE77702/TAD_db/TAD_domains_hESC_hg19.bed\""
   ]
  },
  {
   "cell_type": "code",
   "execution_count": 30,
   "metadata": {},
   "outputs": [],
   "source": [
    "##############################################################\n",
    "gwas = \"/home/database/GWAS/gwas_hg19.bed\"\n",
    "eQTL_dir = \"/home/galaxy/project/alleleSpecific_analysis/data/jointAnalysis/QTL/GTEx_db/eQTL/GTEx_Analysis_v8_eQTL/hg38_bed/hg19_bed/by_tissue/\"\n",
    "sQTL_dir = \"/home/galaxy/project/alleleSpecific_analysis/data/jointAnalysis/QTL/GTEx_db/sQTL/GTEx_Analysis_v8_sQTL/hg38_bed/hg19_bed/by_tissue/\"\n",
    "asm6a_dir = \"/Charles/project/ASm6A/ASm6A/by_tissue/\"\n",
    "# asm6a_dir = \"/Charles/project/ASm6A/ASm6A/by_tissue/overlap_gwas/\"\n",
    "###########\n",
    "result_dir = os.path.join(asm6a_dir, \"target_genes/\")\n",
    "os.system(\"mkdir -p %s\" % result_dir)\n",
    "os.chdir(result_dir)\n",
    "################################################################\n",
    "feature_list = [sQTL, eQTL, gwas]\n",
    "name_list = ['sQTL', 'eQTL', 'gwas']\n",
    "\n",
    "def extract_targetGenes_fromASm6A(asm6a):\n",
    "    anno=\"/home/galaxy/project/alleleSpecific_analysis/data/hg19_genome/gencode.v19.annotation_GeneTSS2kb-Genend.bed\"\n",
    "    tissue = os.path.basename(asm6a).split(\".\")[0]\n",
    "    tmp = \"%s_overlap.txt\" % tissue\n",
    "    os.system(\"bedtools intersect -a %s -b %s -wa -wb > %s\" % (asm6a, anno, tmp))\n",
    "    df = pd.read_table(tmp, sep=\"\\t\", header=None)\n",
    "    target_genes = df.iloc[:,7].tolist()\n",
    "    os.remove(tmp)\n",
    "    return list(set(target_genes))\n",
    "\n",
    "def extract_targetGenes_fromQTL(asm6a, eQTL, sQTL):\n",
    "    df = pd.read_table(asm6a, header=None)\n",
    "    df['term'] = df.iloc[:,0] + \":\" + df.iloc[:,2].astype(str)\n",
    "    #\n",
    "    df_eqtl = pd.read_table(eQTL, header=None)\n",
    "    df_sqtl = pd.read_table(sQTL, header=None)\n",
    "    df_qtl = pd.concat([df_eqtl, df_sqtl])\n",
    "    df_qtl.columns = ['term','gene']\n",
    "    df_com = df.merge(df_qtl, on=['term'], how=\"left\").dropna()\n",
    "#     print(df_com.head())\n",
    "    return list(set(df_com['gene'].tolist()))\n",
    "\n",
    "\n",
    "tissue_list = ['muscle', 'liver', 'lung', 'heart', 'kidney','brain']\n",
    "for tissue in tissue_list:\n",
    "    eQTL = os.path.join(eQTL_dir, \"%s.txt\"%tissue)\n",
    "    sQTL = os.path.join(sQTL_dir, \"%s.txt\"%tissue)\n",
    "    asm6a = os.path.join(asm6a_dir, \"%s.bed\"%tissue)\n",
    "    asm6a_genes = extract_targetGenes_fromASm6A(asm6a)\n",
    "    qtl_genes   = extract_targetGenes_fromQTL(asm6a, eQTL, sQTL)\n",
    "    target_genes = list(set(asm6a_genes + qtl_genes))\n",
    "    result_file = \"%s_targetGenes.txt\"%tissue\n",
    "    with open(result_file, 'w') as fw:\n",
    "        fw.writelines([\"%s\\n\"% x for x in target_genes])"
   ]
  }
 ],
 "metadata": {
  "kernelspec": {
   "display_name": "Python 3",
   "language": "python",
   "name": "python3"
  },
  "language_info": {
   "codemirror_mode": {
    "name": "ipython",
    "version": 3
   },
   "file_extension": ".py",
   "mimetype": "text/x-python",
   "name": "python",
   "nbconvert_exporter": "python",
   "pygments_lexer": "ipython3",
   "version": "3.7.2"
  }
 },
 "nbformat": 4,
 "nbformat_minor": 2
}
