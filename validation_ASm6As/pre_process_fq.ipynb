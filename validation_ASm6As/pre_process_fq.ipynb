{
 "cells": [
  {
   "cell_type": "code",
   "execution_count": null,
   "metadata": {},
   "outputs": [],
   "source": []
  },
  {
   "cell_type": "code",
   "execution_count": 8,
   "metadata": {},
   "outputs": [],
   "source": [
    "#### remove duplicates\n",
    "import pyfastx\n",
    "os.chdir(\"/Charles/project/ASm6A/data/X101SC19090821-Z01-J021/2.cleandata/fq/\")\n",
    "#####\n",
    "SEQUENCE = \"TCTTTCCCTACACGACGCTCTTCCGATCT\"\n",
    "POSTLEN = 20\n",
    "fq = \"ASm6AInput_1.fq.gz\"\n",
    "result_fq = \"ASm6AInput_1_preprocess.fq\"\n",
    "#####\n",
    "with open(result_fq, 'w') as fw:\n",
    "    fq = pyfastx.Fastx(fq)\n",
    "    for name, seq, qual, comment in fq:\n",
    "        if SEQUENCE in seq:\n",
    "            title = name + \" \" + comment\n",
    "            ###\n",
    "            seq_index = seq.index(SEQUENCE)\n",
    "            new_start = seq_index + 29\n",
    "            random_6nt = seq[new_start:(new_start+6)]\n",
    "            new_new_start = (new_start+6) + POSTLEN\n",
    "            new_seq = seq[new_new_start:]\n",
    "            new_qual = qual[new_new_start:]\n",
    "            ###\n",
    "            third = \"+\"\n",
    "            final_seq = random_6nt + new_seq\n",
    "            final_qual = \"nnnnnn\" + new_qual\n",
    "            fw.write(\"%s\\n%s\\n%s\\n%s\\n\" % (title, final_seq, third, final_qual))"
   ]
  }
 ],
 "metadata": {
  "kernelspec": {
   "display_name": "Python 3",
   "language": "python",
   "name": "python3"
  },
  "language_info": {
   "codemirror_mode": {
    "name": "ipython",
    "version": 3
   },
   "file_extension": ".py",
   "mimetype": "text/x-python",
   "name": "python",
   "nbconvert_exporter": "python",
   "pygments_lexer": "ipython3",
   "version": "3.7.2"
  }
 },
 "nbformat": 4,
 "nbformat_minor": 2
}
