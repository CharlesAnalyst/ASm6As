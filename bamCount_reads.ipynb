{
 "cells": [
  {
   "cell_type": "code",
   "execution_count": 1,
   "metadata": {},
   "outputs": [],
   "source": [
    "os.chdir(\"/Charles/project/ASm6A/\")\n",
    "result_dir = \"bam_count/\"\n",
    "os.system(\"mkdir -p %s\" % result_dir)\n",
    "\n",
    "sh = os.path.join(result_dir, \"bamCount.sh\")\n",
    "bam_list = glob.glob(\"corrected_i*/*/*-dedupped.bam\")\n",
    "with open(sh, 'w') as fw:\n",
    "    for bam in bam_list:\n",
    "        prefix = os.path.basename(bam).split(\"-dedupped.bam\")[0]\n",
    "        res = os.path.join(result_dir, \"%s.count\"%prefix)\n",
    "        fw.write(\"samtools view -c %s > %s\\n\" % (os.path.abspath(bam), os.path.abspath(res)))"
   ]
  },
  {
   "cell_type": "code",
   "execution_count": 3,
   "metadata": {},
   "outputs": [],
   "source": [
    "## \n",
    "os.chdir(\"/Charles/project/ASm6A/bam_count/\")\n",
    "count_list = glob.glob(\"*.count\")\n",
    "res = \"AllSamples.bam_stat.txt\"\n",
    "\n",
    "with open(res, 'w') as fw:\n",
    "    for count in count_list:\n",
    "        sample = os.path.basename(count).split(\".count\")[0]\n",
    "        t = open(count, 'r').read()\n",
    "        fw.write(\"%s\\t%s\\n\" % (sample, t.strip()))"
   ]
  }
 ],
 "metadata": {
  "kernelspec": {
   "display_name": "Python 3",
   "language": "python",
   "name": "python3"
  },
  "language_info": {
   "codemirror_mode": {
    "name": "ipython",
    "version": 3
   },
   "file_extension": ".py",
   "mimetype": "text/x-python",
   "name": "python",
   "nbconvert_exporter": "python",
   "pygments_lexer": "ipython3",
   "version": "3.7.2"
  }
 },
 "nbformat": 4,
 "nbformat_minor": 2
}
