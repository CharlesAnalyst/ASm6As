{
 "cells": [
  {
   "cell_type": "markdown",
   "metadata": {},
   "source": [
    "#### calculate the proportion of ASm6As\n",
    "#### stat the fraction of heterozygous sites associated with ASm6As in each sample"
   ]
  },
  {
   "cell_type": "code",
   "execution_count": 6,
   "metadata": {},
   "outputs": [
    {
     "name": "stdout",
     "output_type": "stream",
     "text": [
      "kidney_IP_2 0.2069\n",
      "kidney_IP_3 0.1887\n",
      "kidney_IP_4 0.2256\n",
      "Kidney_1 0.2098\n",
      "Kidney_2 0.0477\n",
      "Kidney_3 0.0984\n",
      "liver_IP_1 0.2156\n",
      "liver_IP_2 0.2425\n",
      "liver_IP_3 0.2711\n",
      "Liver-4-2 0.1321\n",
      "Liver_1 0.1373\n",
      "Liver_2 0.0114\n",
      "Liver_3 0.1357\n",
      "muscle_IP_4 0.2903\n",
      "muscle_IP_5 0.2486\n",
      "Muscle_1 0.0429\n",
      "Muscle_2 0.1479\n",
      "Muscle_3 0.1292\n",
      "lung_IP_4 0.2568\n",
      "lung_IP_5 0.2036\n",
      "Lung-2-1 0.1582\n",
      "Lung-2-4 0.1414\n",
      "Lung-4-2 0.1568\n",
      "Lung-4-4 0.0669\n",
      "Lung_1 0.0662\n",
      "Lung_2 0.0941\n",
      "Lung_3 0.1481\n",
      "heart_IP_1 0.1714\n",
      "heart_IP_2 0.2411\n",
      "heart_IP_3 0.2275\n",
      "Heart-1-1 0.2795\n",
      "Heart-4-2 0.1825\n",
      "Heart_1 0.1189\n",
      "Heart_2 0.1967\n",
      "Heart_3 0.0915\n",
      "brain_IP_1 0.126\n",
      "brain_IP_2 0.1421\n",
      "brain_IP_3 0.1806\n",
      "Brainstem-5-3 0.2377\n",
      "Cerebellum-5-3 0.153\n",
      "Cerebellum-7-4 0.3456\n",
      "Cerebrum-5-3 0.2059\n",
      "Cerebrum-6-3 0.2578\n",
      "Hypothalamus-5-3 0.1529\n",
      "Cerebellum_1 0.1133\n",
      "Cerebellum_2 0.0262\n",
      "Cerebellum_3 0.0497\n",
      "FrontalCortex_1 0.2079\n",
      "FrontalCortex_2 0.0774\n",
      "FrontalCortex_3 0.0698\n"
     ]
    }
   ],
   "source": [
    "# sample_dict = {\n",
    "# \"liver\": {\"fetal\": [\"liver_IP_1.bed\",'liver_IP_2.bed','liver_IP_3.bed'], \n",
    "#         \"adult\": ['Liver-4-2.bed','Liver_1.bed','Liver_2.bed','Liver_3.bed']},\n",
    "# \"muscle\": {\"fetal\": [\"muscle_IP_4.bed\",'muscle_IP_5.bed'],\n",
    "#            \"adult\": ['Muscle-3-2.bed','Muscle-5-3.bed','Muscle_1.bed','Muscle_2.bed','Muscle_3.bed']},\n",
    "# \"lung\": {\"fetal\": [\"lung_IP_4.bed\",'lung_IP_5.bed'], \n",
    "#          \"adult\": ['Lung-2-1.bed','Lung-2-4.bed','Lung-4-2.bed','Lung-4-4.bed','Lung_1.bed','Lung_2.bed','Lung_3.bed']},\n",
    "# \"heart\": {\"fetal\": [\"heart_IP_1.bed\",'heart_IP_2.bed','heart_IP_3.bed'],\n",
    "#           \"adult\": ['Heart-1-1.bed','Heart-4-2.bed','Heart_1.bed','Heart_2.bed','Heart_3.bed']},\n",
    "# \"brain\": {\"fetal\": [\"brain_IP_1.bed\",'brain_IP_2.bed','brain_IP_3.bed'],\n",
    "#           \"adult\": ['Brainstem-5-3.bed','Cerebellum-5-3.bed','Cerebellum-7-4.bed','Cerebrum-5-3.bed','Cerebrum-6-3.bed','Hypothalamus-5-3.bed','Cerebellum_1.bed','Cerebellum_2.bed','Cerebellum_3.bed','FrontalCortex_1.bed','FrontalCortex_2.bed','FrontalCortex_3.bed']}\n",
    "#             }\n",
    "sample_dict = {\n",
    "\"kidney\": ['kidney_IP_2.bed','kidney_IP_3.bed','kidney_IP_4.bed','Kidney_1.bed','Kidney_2.bed','Kidney_3.bed'],\n",
    "\"liver\":  [\"liver_IP_1.bed\",'liver_IP_2.bed','liver_IP_3.bed','Liver-4-2.bed','Liver_1.bed','Liver_2.bed','Liver_3.bed'],\n",
    "\"muscle\": [\"muscle_IP_4.bed\",'muscle_IP_5.bed','Muscle_1.bed','Muscle_2.bed','Muscle_3.bed'],\n",
    "\"lung\":   ['lung_IP_4.bed','lung_IP_5.bed','Lung-2-1.bed','Lung-2-4.bed','Lung-4-2.bed','Lung-4-4.bed','Lung_1.bed','Lung_2.bed','Lung_3.bed'],\n",
    "\"heart\":  [\"heart_IP_1.bed\",'heart_IP_2.bed','heart_IP_3.bed','Heart-1-1.bed','Heart-4-2.bed','Heart_1.bed','Heart_2.bed','Heart_3.bed'],\n",
    "\"brain\":  [\"brain_IP_1.bed\",'brain_IP_2.bed','brain_IP_3.bed','Brainstem-5-3.bed','Cerebellum-5-3.bed','Cerebellum-7-4.bed','Cerebrum-5-3.bed','Cerebrum-6-3.bed','Hypothalamus-5-3.bed','Cerebellum_1.bed','Cerebellum_2.bed','Cerebellum_3.bed','FrontalCortex_1.bed','FrontalCortex_2.bed','FrontalCortex_3.bed']\n",
    "            }\n",
    "##\n",
    "# heter_dir = \"/Charles/project/ASm6A/by_ind/count/input_count/rename/\" # CRR042283.readcounts.txt\n",
    "heter_dir = \"/Charles/project/ASm6A/Hypothesis_test/ASm6A/rename/\"\n",
    "asm6a_dir = \"/Charles/project/ASm6A/ASm6A/\"\n",
    "bed_list = glob.glob(\"%s/*.bed\" % asm6a_dir)\n",
    "#\n",
    "def calculate_proportion(bed):\n",
    "    num_asm6a = int(os.popen(\"wc -l %s\" % bed).read().split()[0])\n",
    "    total_bed = os.path.join(heter_dir, os.path.basename(bed).replace(\".bed\",\".txt\"))\n",
    "    num_snp = int(os.popen(\"wc -l %s\" % total_bed).read().split()[0])\n",
    "    fraction = round(num_asm6a/num_snp, 4)\n",
    "    print(os.path.basename(bed).split(\".\")[0], fraction)\n",
    "    \n",
    "for tissue, sample_list in sample_dict.items():\n",
    "#     print(tissue)\n",
    "    for sample in sample_list:\n",
    "        calculate_proportion(os.path.join(asm6a_dir, sample))"
   ]
  }
 ],
 "metadata": {
  "kernelspec": {
   "display_name": "Python 3",
   "language": "python",
   "name": "python3"
  },
  "language_info": {
   "codemirror_mode": {
    "name": "ipython",
    "version": 3
   },
   "file_extension": ".py",
   "mimetype": "text/x-python",
   "name": "python",
   "nbconvert_exporter": "python",
   "pygments_lexer": "ipython3",
   "version": "3.7.2"
  }
 },
 "nbformat": 4,
 "nbformat_minor": 2
}
