{
 "cells": [
  {
   "cell_type": "code",
   "execution_count": 1,
   "metadata": {},
   "outputs": [],
   "source": [
    "# ! ls *.bed | parallel \"annotatePeaks.pl {} hg19 > homer_anno/{.}.annoResults\"\n",
    "# /home/galaxy/project/alleleSpecific_analysis/results/ASm6A_addZr/stat_region/parse_annoResult.py\n",
    "\n",
    "#### split into different genomic regions\n",
    "# data_dir = \"/Charles/project/ASm6A/ASm6A/homer_anno/\"\n",
    "data_dir = \"/Charles/project/ASm6A/ASm6A/common_ASm6A/totaltissues/homer_anno_100%/\"\n",
    "os.chdir(data_dir)\n",
    "\n",
    "homer_list = glob.glob(\"*.annoResults\")\n",
    "result_dir = \"split_region/\"\n",
    "os.system(\"mkdir -p %s\" % result_dir)\n",
    "####\n",
    "def write_to_file(df):\n",
    "    region, sample = df.iloc[0, 1], df.iloc[0, -1]\n",
    "    sub_dir = os.path.join(result_dir, sample)\n",
    "    os.system(\"mkdir -p %s\" % sub_dir)\n",
    "    df = df.iloc[:, :-2]\n",
    "    res = os.path.join(sub_dir, \"%s_SNPid.txt\"%region)\n",
    "    df.to_csv(res, sep=\"\\t\", index=False, header=False)\n",
    "    \n",
    "def split_into_region(in_file):\n",
    "    df = pd.read_table(in_file, sep=\"\\t\")\n",
    "    df['term'] = df['Chr'] + \":\" + df['End'].astype(str)\n",
    "    df['sample'] = os.path.basename(in_file).split(\".\")[0]\n",
    "    df = df[['term', 'Annotation', 'sample']]\n",
    "    df.columns = ['snpID','Annotation', 'sample']\n",
    "    df['Annotation'] = df['Annotation'].str.split(\"(\").str[0].str.strip().str.replace(\"' UTR\", \"UTR\")\n",
    "    df.groupby(['Annotation']).apply(write_to_file)\n",
    "\n",
    "for homer in homer_list:\n",
    "    split_into_region(homer)\n",
    "#     bed_list = glob.glob(\"*.bed\")\n",
    "#     for bed in bed_list:\n",
    "#         df = pd.read_table(bed)\n",
    "#         an_list = df['annotation']\n",
    "#         new_list = [x.split(\"(\")[0] for x in an_list]\n",
    "#         df['type'] = new_list\n",
    "#         df['start'] = df['end'] - 1\n",
    "#         df[['seqnames', 'start', 'end', 'type']].to_csv(\"format/%s\"%bed, sep=\"\\t\", header=False, index=False)"
   ]
  }
 ],
 "metadata": {
  "kernelspec": {
   "display_name": "Python 3",
   "language": "python",
   "name": "python3"
  },
  "language_info": {
   "codemirror_mode": {
    "name": "ipython",
    "version": 3
   },
   "file_extension": ".py",
   "mimetype": "text/x-python",
   "name": "python",
   "nbconvert_exporter": "python",
   "pygments_lexer": "ipython3",
   "version": "3.7.2"
  }
 },
 "nbformat": 4,
 "nbformat_minor": 2
}
