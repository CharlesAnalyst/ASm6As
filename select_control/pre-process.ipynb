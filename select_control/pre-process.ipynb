{
 "cells": [
  {
   "cell_type": "markdown",
   "metadata": {},
   "source": [
    "#### pick out heter sites which don't overlap with significant ASm6As as control"
   ]
  },
  {
   "cell_type": "code",
   "execution_count": 2,
   "metadata": {},
   "outputs": [],
   "source": [
    "heter_dir = \"/Charles/project/ASm6A/Hypothesis_test/ASm6A/rename/\" # Brainstem-5-3.txt\n",
    "sig_dir = \"/Charles/project/ASm6A/ASm6A/\" # Brainstem-5-3.bed\n",
    "os.chdir(heter_dir)\n",
    "result_dir = \"unsig/\"\n",
    "os.system(\"mkdir -p %s\" % result_dir)\n",
    "\n",
    "heter_list = glob.glob(\"*.bed\")\n",
    "for heter in heter_list:\n",
    "    prefix = os.path.basename(heter)\n",
    "    sig = os.path.join(sig_dir, prefix)\n",
    "    result_file = os.path.join(result_dir, prefix)\n",
    "    os.system(\"bedtools intersect -a %s -b %s -v -wa > %s\" % (heter, sig, result_file))"
   ]
  }
 ],
 "metadata": {
  "kernelspec": {
   "display_name": "Python 3",
   "language": "python",
   "name": "python3"
  },
  "language_info": {
   "codemirror_mode": {
    "name": "ipython",
    "version": 3
   },
   "file_extension": ".py",
   "mimetype": "text/x-python",
   "name": "python",
   "nbconvert_exporter": "python",
   "pygments_lexer": "ipython3",
   "version": "3.7.2"
  }
 },
 "nbformat": 4,
 "nbformat_minor": 2
}
