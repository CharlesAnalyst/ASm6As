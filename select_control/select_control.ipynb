{
 "cells": [
  {
   "cell_type": "markdown",
   "metadata": {},
   "source": [
    "#### select control"
   ]
  },
  {
   "cell_type": "code",
   "execution_count": 7,
   "metadata": {},
   "outputs": [],
   "source": [
    "import random\n",
    "\n",
    "sig_dir = \"/Charles/project/ASm6A/ASm6A/homer_anno/split_region/\"\n",
    "# unsig_dir = \"/Charles/project/ASm6A/Hypothesis_test/ASm6A/unsig/rename/homer_anno/split_region/\"\n",
    "unsig_dir = \"/Charles/project/ASm6A/Hypothesis_test/ASm6A/rename/unsig/homer_anno/split_region/\"\n",
    "result_dir = \"/Charles/project/ASm6A/ASm6A/control/\"\n",
    "\n",
    "def read_file(in_file):\n",
    "    snp_list = pd.read_table(in_file, header=None).iloc[:,0].tolist()\n",
    "    return list(set(snp_list))\n",
    "\n",
    "def generate_SNP_list(asm6a_dir):\n",
    "    os.chdir(asm6a_dir)\n",
    "    num_dict, snp_dict = {}, {}\n",
    "    file_list = glob.glob(\"*.txt\")\n",
    "    for i_file in file_list:\n",
    "        region = i_file.split(\"_SNPid.txt\")[0]\n",
    "        num_dict[region] = len(read_file(i_file))\n",
    "        snp_dict[region] = read_file(i_file)\n",
    "    return num_dict, snp_dict\n",
    "    \n",
    "def write_to_file(snp_list, result_file):\n",
    "    with open(result_file, 'w') as fw:\n",
    "        for x in snp_list:\n",
    "            chro, end = x.split(\":\")[0], int(x.split(\":\")[1])\n",
    "            fw.write(\"%s\\t%s\\t%s\\n\" % (chro, str(end-1), str(end)))\n",
    "    \n",
    "def random_select_sets(asm6a_dir, sample):\n",
    "    sig_num_dict, sig_snp_dict = generate_SNP_list(asm6a_dir)\n",
    "    unsig_num_dict, unsig_snp_dict = generate_SNP_list(os.path.join(unsig_dir, sample))\n",
    "    result_list = []\n",
    "    for region, num in sig_num_dict.items():\n",
    "        sampled_snps = []\n",
    "        if region in unsig_snp_dict:  ## unsig SNP didn't exist in this region\n",
    "            snp_list = unsig_snp_dict[region]\n",
    "            if len(snp_list) < num:   ## the number of unsig SNPd less than sig SNPs\n",
    "                sampled_snps = snp_list\n",
    "                print(sample, region, num)\n",
    "            else:\n",
    "                sampled_snps = random.sample(snp_list, num)\n",
    "        result_list += sampled_snps\n",
    "    result_file = os.path.join(result_dir, \"%s.bed\"%sample)\n",
    "    write_to_file(result_list, result_file)\n",
    "\n",
    "dir_list = [x for x in glob.glob(\"%s/*\" % sig_dir) if os.path.isdir(x)]\n",
    "for asm6a_dir in dir_list:\n",
    "    sample = asm6a_dir.split(\"/\")[-1]\n",
    "    # if sample == \"brain_IP_1\":\n",
    "    random_select_sets(asm6a_dir, sample)"
   ]
  }
 ],
 "metadata": {
  "kernelspec": {
   "display_name": "Python 3",
   "language": "python",
   "name": "python3"
  },
  "language_info": {
   "codemirror_mode": {
    "name": "ipython",
    "version": 3
   },
   "file_extension": ".py",
   "mimetype": "text/x-python",
   "name": "python",
   "nbconvert_exporter": "python",
   "pygments_lexer": "ipython3",
   "version": "3.7.2"
  }
 },
 "nbformat": 4,
 "nbformat_minor": 2
}
