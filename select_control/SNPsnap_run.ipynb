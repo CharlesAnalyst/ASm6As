{
 "cells": [
  {
   "cell_type": "code",
   "execution_count": 1,
   "metadata": {},
   "outputs": [],
   "source": [
    "# run SNPsnap\n",
    "############################\n",
    "# data_dir = \"/Charles/project/ASm6A/ASm6A/homer_anno/split_region/\"\n",
    "data_dir = \"/Charles/project/ASm6A/ASm6A/common_ASm6A/totaltissues/homer_anno_100%/split_region/\"\n",
    "os.chdir(data_dir)\n",
    "\n",
    "result_dir = os.path.abspath(\"../SNPsnap/\")\n",
    "os.system(\"mkdir -p %s\" % result_dir)\n",
    "shell = \"%s/SNPsnap_run.sh\" % result_dir\n",
    "#######################################################################################\n",
    "with open(shell, 'w') as fw:\n",
    "    txt_list = glob.glob(\"*/*.txt\")\n",
    "    for txt in txt_list:\n",
    "        prefix = txt.split(\"/\")[-2]\n",
    "        sub_dir = os.path.join(result_dir, prefix)\n",
    "        os.system(\"mkdir -p %s\" % sub_dir)\n",
    "        txt = os.path.abspath(txt)\n",
    "        region = os.path.basename(txt).split(\"_\")[0]\n",
    "        com = \"Rscript SNPsnap.R --input_file %s --dir_out %s --num_batches 1 --idx_batch 1 --population EAS \\\n",
    "--num_matching_snps 100 --genomic_region %s\" % (txt, sub_dir, region)\n",
    "        fw.write(\"%s\\n\" % com)       \n",
    "## ln -s /home/galaxy/project/alleleSpecific_analysis/results/ASm6A_addZr/common_ASm6A/homer/split_region/modified_SNPsnap/SNPsnap.R ./"
   ]
  },
  {
   "cell_type": "code",
   "execution_count": 2,
   "metadata": {},
   "outputs": [
    {
     "name": "stdout",
     "output_type": "stream",
     "text": [
      "1\n"
     ]
    }
   ],
   "source": [
    "###\n",
    "base_dir = \"/Charles/project/ASm6A/ASm6A/common_ASm6A/totaltissues/homer_anno_100%/SNPsnap/\"\n",
    "os.chdir(base_dir)\n",
    "dir_list = [x for x in glob.glob(\"*\") if os.path.isdir(x)]\n",
    "print(len(dir_list))\n",
    "for subdir in dir_list:\n",
    "    os.chdir(\"%s/%s/\"% (base_dir, subdir))\n",
    "    os.system(\"cat matched_SNPs/*/SNPmatch_100_matchedSNPs_batch1.txt > combined_SNPsnap.txt\")"
   ]
  },
  {
   "cell_type": "code",
   "execution_count": 3,
   "metadata": {},
   "outputs": [],
   "source": [
    "def process_each_column(value_list, result_file):\n",
    "    value_list = [x for x in value_list if \":\" in str(x)]\n",
    "    with open(result_file, 'w') as fw:\n",
    "        for x in value_list:\n",
    "            chro = \"chr\" + x.split(\":\")[0]\n",
    "            end = int(x.split(\":\")[1])\n",
    "            start = end - 1\n",
    "            line = \"%s\\t%s\\t%s\" % (chro, str(start), str(end))\n",
    "            fw.write(line.strip() + \"\\n\")\n",
    "            \n",
    "# os.chdir(\"/Charles/project/ASm6A/ASm6A/homer_anno/SNPsnap/\")\n",
    "os.chdir(\"/Charles/project/ASm6A/ASm6A/common_ASm6A/totaltissues/homer_anno_100%/SNPsnap/\")\n",
    "dir_list = [x for x in glob.glob(\"*\") if os.path.isdir(x)]\n",
    "for subdir in dir_list:\n",
    "    in_file = \"%s/combined_SNPsnap.txt\" % subdir\n",
    "    result_dir = \"%s/SNPsnap/\" % subdir\n",
    "    os.system(\"mkdir -p %s\" % result_dir)\n",
    "# in_file = \"/Charles/project/ASm6A/ASm6A/common_ASm6A/homer_anno/split_region/common_ASm6A/SNPsnap/matched_SNPs/commonASm6A_SNPsnap.txt\"\n",
    "# result_dir = \"/Charles/project/ASm6A/ASm6A/common_ASm6A/homer_anno/split_region/common_ASm6A/SNPsnap/\"\n",
    "# in_file = \"/Charles/project/ASm6A/ASm6A/common_ASm6A/totaltissues/homer_anno/split_region/common/SNPsnap/matched_SNPs/commonASm6A_SNPsnap.txt\"\n",
    "# result_dir = \"/Charles/project/ASm6A/ASm6A/common_ASm6A/totaltissues/homer_anno/split_region/common/SNPsnap/\"\n",
    "    if not os.path.getsize(in_file):\n",
    "        print(in_file)\n",
    "    else:\n",
    "        df = pd.read_table(in_file, header=None).dropna()\n",
    "        process_each_column(df.iloc[:,0].tolist(), \"%s/Input_SNP.bed\"%result_dir)\n",
    "        for i in range(2, 102):\n",
    "            process_each_column(df.iloc[:,i].tolist(), \"%s/Set_%d.bed\" % (result_dir,(i-1)))"
   ]
  }
 ],
 "metadata": {
  "kernelspec": {
   "display_name": "Python 3",
   "language": "python",
   "name": "python3"
  },
  "language_info": {
   "codemirror_mode": {
    "name": "ipython",
    "version": 3
   },
   "file_extension": ".py",
   "mimetype": "text/x-python",
   "name": "python",
   "nbconvert_exporter": "python",
   "pygments_lexer": "ipython3",
   "version": "3.7.2"
  }
 },
 "nbformat": 4,
 "nbformat_minor": 2
}
