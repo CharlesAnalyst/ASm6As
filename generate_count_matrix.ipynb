{
 "cells": [
  {
   "cell_type": "code",
   "execution_count": 1,
   "metadata": {},
   "outputs": [],
   "source": [
    "####  merge ip and input raw read counts into a matrix\n",
    "os.chdir(\"/Charles/project/ASm6A/by_ind/count/\")\n",
    "input_dir = \"/Charles/project/ASm6A/by_ind/count/input_count/rename/\"\n",
    "ip_dir = \"/Charles/project/ASm6A/by_ind/count/ip_count/rename/\"\n",
    "###\n",
    "result_dir = \"read_matrix/\"\n",
    "os.system(\"mkdir -p %s\" % result_dir)\n",
    "\n",
    "\n",
    "# filter based on read counts > 5;\n",
    "def preprocess_count(in_file, file_type):  # file_type == \"ip\" or \"input\"\n",
    "    df = pd.read_table(in_file)\n",
    "    df[\"ID\"] = df[\"contig\"] + \":\" + df[\"position\"].astype(str)\n",
    "    df_sub = df[[\"ID\", \"refCount\", \"altCount\"]]\n",
    "    df_sub = df_sub[(df_sub['refCount'] > 5) &\n",
    "                    (df_sub['altCount'] > 5)]  ############\n",
    "    df_sub.columns = [\n",
    "        \"ID\", \"refCount_%s\" % file_type,\n",
    "        \"altCount_%s\" % file_type\n",
    "    ]\n",
    "    return df_sub\n",
    "\n",
    "\n",
    "ip_list = glob.glob(\"%s/*.readcounts.txt\" % ip_dir)\n",
    "for ip_count in ip_list:\n",
    "    ip_prefix = os.path.basename(ip_count).split(\".\")[0]\n",
    "    result_file = os.path.join(result_dir, \"%s.txt\" % ip_prefix)\n",
    "    input_count = os.path.join(input_dir, os.path.basename(ip_count))\n",
    "    df_input = preprocess_count(input_count, \"input\")\n",
    "    df_ip = preprocess_count(ip_count, \"ip\")\n",
    "    df = df_input.merge(df_ip, on=\"ID\")\n",
    "    #     ip_totalNum, input_totalNum = int(totalNum_dict[ip_prefix][0]), int(totalNum_dict[ip_prefix][2])\n",
    "    df.to_csv(result_file, sep=\"\\t\", index=False)"
   ]
  },
  {
   "cell_type": "code",
   "execution_count": 4,
   "metadata": {},
   "outputs": [],
   "source": [
    "#### generate matrix\n",
    "os.chdir(\"/Charles/project/ASm6A/shFUS/mapping/human/uniq_bam/count/\")\n",
    "txt_list = glob.glob(\"*.readcounts.txt\")\n",
    "result_dir = \"matrix\"\n",
    "os.system(\"mkdir -p %s\" % result_dir)\n",
    "\n",
    "def format_file(in_file):\n",
    "    prefix = os.path.basename(in_file).split(\".readcounts.txt\")[0]\n",
    "    df = pd.read_table(in_file)\n",
    "    df = df[['contig','position','refAllele','altAllele','refCount','altCount']]\n",
    "    df[\"ref_%s\"%prefix] = df['refCount']\n",
    "    df[\"alt_%s\"%prefix] = df['altCount']\n",
    "    del df['refCount']\n",
    "    del df['altCount']\n",
    "    return df\n",
    "\n",
    "df = format_file(txt_list[0])\n",
    "for txt in txt_list[1:]:\n",
    "    df_i = format_file(txt)\n",
    "    df = df.merge(df_i, on=['contig','position','refAllele','altAllele'], how=\"outer\")\n",
    "res = os.path.join(result_dir, \"totalSamples.txt\")\n",
    "df.to_csv(res, sep=\"\\t\", index=False)"
   ]
  }
 ],
 "metadata": {
  "kernelspec": {
   "display_name": "Python 3",
   "language": "python",
   "name": "python3"
  },
  "language_info": {
   "codemirror_mode": {
    "name": "ipython",
    "version": 3
   },
   "file_extension": ".py",
   "mimetype": "text/x-python",
   "name": "python",
   "nbconvert_exporter": "python",
   "pygments_lexer": "ipython3",
   "version": "3.7.2"
  }
 },
 "nbformat": 4,
 "nbformat_minor": 2
}
